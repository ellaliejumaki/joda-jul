{
  "nbformat": 4,
  "nbformat_minor": 0,
  "metadata": {
    "colab": {
      "provenance": []
    },
    "kernelspec": {
      "name": "python3",
      "display_name": "Python 3"
    },
    "language_info": {
      "name": "python"
    }
  },
  "cells": [
    {
      "cell_type": "code",
      "execution_count": 4,
      "metadata": {
        "colab": {
          "base_uri": "https://localhost:8080/"
        },
        "id": "kKVr3-lYGaSt",
        "outputId": "d86f9729-ba48-4a26-ffec-b16bd8bf7f61"
      },
      "outputs": [
        {
          "name": "stdout",
          "output_type": "stream",
          "text": [
            "What is your skill level? (beginner, intermediate, knowledgeable, expert)expert\n"
          ]
        }
      ],
      "source": [
        "import json\n",
        "import os\n",
        "import sys\n",
        "\n",
        "# Hae käyttöjärjestelmä\n",
        "os_environment = os.name\n",
        "\n",
        "# Hae Python versionumero\n",
        "python_version = sys.version\n",
        "\n",
        "# Hae Jupyter Notebookin versio\n",
        "jupyter_environment = sys.platform\n",
        "\n",
        "# Kysy käyttäjän taitotaso\n",
        "skill_level = input(\"What is your skill level? (beginner, intermediate, knowledgeable, expert)\")\n",
        "\n",
        "# Tallenna tiedot JSON-tiedostoon\n",
        "environment = {\n",
        "    \"os_environment\": os_environment,\n",
        "    \"python_version\": python_version,\n",
        "    \"jupyter_environment\": jupyter_environment,\n",
        "    \"skill_level\": skill_level\n",
        "}\n",
        "\n",
        "with open(\"data\", \"w\") as f:\n",
        "    json.dump(jupyter_environment, f, indent=1)"
      ]
    }
  ]
}