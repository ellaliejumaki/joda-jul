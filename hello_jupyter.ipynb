{
 "cells": [
  {
   "cell_type": "code",
   "execution_count": 6,
   "id": "982f7682-33a6-46c9-8248-27b38e2e80f4",
   "metadata": {},
   "outputs": [
    {
     "name": "stdin",
     "output_type": "stream",
     "text": [
      "What is your skill level? (beginner, intermediate, knowledgeable, expert) beginner\n"
     ]
    }
   ],
   "source": [
    "import json\n",
    "import os\n",
    "import sys\n",
    "\n",
    "# Hae käyttöjärjestelmä\n",
    "os_environment = os.name\n",
    "\n",
    "# Hae Python versionumero\n",
    "python_version = sys.version.split()[0]\n",
    "\n",
    "# Hae Jupyter Notebookin versio\n",
    "jupyter_environment = !jupyter --version\n",
    "\n",
    "# Kysy käyttäjän taitotaso\n",
    "skill_level = input(\"What is your skill level? (beginner, intermediate, knowledgeable, expert)\")\n",
    "\n",
    "# Tallenna tiedot JSON-tiedostoon\n",
    "data = {\n",
    "    \"os_environment\": os_environment,\n",
    "    \"python_version\": python_version,\n",
    "    \"jupyter_environment\": jupyter_environment[0],\n",
    "    \"skill_level\": skill_level\n",
    "}\n",
    "\n",
    "with open(\"jupyter_info.json\", \"w\") as f:\n",
    "    json.dump(data, f)"
   ]
  },
  {
   "cell_type": "code",
   "execution_count": null,
   "id": "b68816ac-a39a-4514-93e1-ba7fc1503bb8",
   "metadata": {},
   "outputs": [],
   "source": []
  },
  {
   "cell_type": "code",
   "execution_count": null,
   "id": "0556337d-15e7-40e6-95fc-38a692d6a89b",
   "metadata": {},
   "outputs": [],
   "source": []
  }
 ],
 "metadata": {
  "kernelspec": {
   "display_name": "anaconda-2022.05-py39",
   "language": "python",
   "name": "conda-env-anaconda-2022.05-py39-py"
  },
  "language_info": {
   "codemirror_mode": {
    "name": "ipython",
    "version": 3
   },
   "file_extension": ".py",
   "mimetype": "text/x-python",
   "name": "python",
   "nbconvert_exporter": "python",
   "pygments_lexer": "ipython3",
   "version": "3.9.12"
  }
 },
 "nbformat": 4,
 "nbformat_minor": 5
}
